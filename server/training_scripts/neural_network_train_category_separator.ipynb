{
 "cells": [
  {
   "cell_type": "markdown",
   "id": "233b03f7-695e-4bd7-84ea-46cd15b2e4b3",
   "metadata": {},
   "source": [
    "## Neural network for categorizing clothing pieces"
   ]
  },
  {
   "cell_type": "code",
   "execution_count": 1,
   "id": "72e6ae9e-62d6-46fe-9836-609cba9b37b9",
   "metadata": {},
   "outputs": [],
   "source": [
    "import numpy as np\n",
    "import pandas as pd\n",
    "from PIL import Image\n",
    "import os\n",
    "import keras\n",
    "from sklearn.preprocessing import LabelEncoder\n",
    "from sklearn.model_selection import train_test_split"
   ]
  },
  {
   "cell_type": "markdown",
   "id": "abc5cbb9-5b5b-413d-86ab-50acc96c3962",
   "metadata": {},
   "source": [
    "### Load the training sets (x,y) from the saves"
   ]
  },
  {
   "cell_type": "code",
   "execution_count": 2,
   "id": "d869e757-aca6-41ae-aba2-3d03654b5b29",
   "metadata": {},
   "outputs": [],
   "source": [
    "x = np.load(\"x_train_save.npy\", allow_pickle=True)"
   ]
  },
  {
   "cell_type": "code",
   "execution_count": 3,
   "id": "7ac4f140-4553-4d7a-8261-d279071917fa",
   "metadata": {},
   "outputs": [],
   "source": [
    "y = np.load(\"y_train_save.npy\", allow_pickle=True)"
   ]
  },
  {
   "cell_type": "code",
   "execution_count": 4,
   "id": "90acbf30-c6cb-4804-b790-990af5d6d128",
   "metadata": {},
   "outputs": [
    {
     "data": {
      "text/plain": [
       "(5403, 5403)"
      ]
     },
     "execution_count": 4,
     "metadata": {},
     "output_type": "execute_result"
    }
   ],
   "source": [
    "x.size, y.size"
   ]
  },
  {
   "cell_type": "code",
   "execution_count": 5,
   "id": "84aa74d3-f192-47cf-b5ce-9d7e97a82204",
   "metadata": {},
   "outputs": [
    {
     "data": {
      "text/plain": [
       "(1024,)"
      ]
     },
     "execution_count": 5,
     "metadata": {},
     "output_type": "execute_result"
    }
   ],
   "source": [
    "x[0].shape"
   ]
  },
  {
   "cell_type": "code",
   "execution_count": 6,
   "id": "9afd973b-befc-4a27-860b-bd34d859c6f2",
   "metadata": {},
   "outputs": [
    {
     "data": {
      "text/plain": [
       "20"
      ]
     },
     "execution_count": 6,
     "metadata": {},
     "output_type": "execute_result"
    }
   ],
   "source": [
    "np.unique(y).size"
   ]
  },
  {
   "cell_type": "markdown",
   "id": "c201c269-b516-4243-b333-43f6fdfa526b",
   "metadata": {},
   "source": [
    "### Splitting them for training and testing"
   ]
  },
  {
   "cell_type": "code",
   "execution_count": 7,
   "id": "135c0bf3-5481-459c-b508-de22504221eb",
   "metadata": {},
   "outputs": [],
   "source": [
    "x_train, x_test = np.array_split(x, 2)\n",
    "y_train, y_test = np.array_split(y, 2)"
   ]
  },
  {
   "cell_type": "code",
   "execution_count": 8,
   "id": "776f14d3-f5cd-4880-934c-fcddd0d47da5",
   "metadata": {},
   "outputs": [
    {
     "data": {
      "text/plain": [
       "((2702,), (2702,))"
      ]
     },
     "execution_count": 8,
     "metadata": {},
     "output_type": "execute_result"
    }
   ],
   "source": [
    "x_train.shape, y_train.shape"
   ]
  },
  {
   "cell_type": "code",
   "execution_count": 9,
   "id": "e08fffca-37a9-4781-8405-396f47245a68",
   "metadata": {},
   "outputs": [],
   "source": [
    "label_encoder = LabelEncoder()\n",
    "y_train_encoded = label_encoder.fit_transform(y_train)\n",
    "y_test_encoded = label_encoder.fit_transform(y_test)"
   ]
  },
  {
   "cell_type": "code",
   "execution_count": 10,
   "id": "d144bde0-77f5-4642-ba7f-ee21d5c7419c",
   "metadata": {},
   "outputs": [
    {
     "data": {
      "text/plain": [
       "array([19,  6, 17, ..., 18, 16,  5])"
      ]
     },
     "execution_count": 10,
     "metadata": {},
     "output_type": "execute_result"
    }
   ],
   "source": [
    "y_train_encoded"
   ]
  },
  {
   "cell_type": "code",
   "execution_count": 11,
   "id": "ed772f02-f04c-40f7-9122-2190ffcf8c29",
   "metadata": {},
   "outputs": [
    {
     "data": {
      "text/plain": [
       "array([17, 11,  3, ...,  8, 19, 12])"
      ]
     },
     "execution_count": 11,
     "metadata": {},
     "output_type": "execute_result"
    }
   ],
   "source": [
    "y_test_encoded"
   ]
  },
  {
   "cell_type": "code",
   "execution_count": 12,
   "id": "a5f8cbc7-58c6-48f8-bc09-b9fb52816b94",
   "metadata": {},
   "outputs": [],
   "source": [
    "x_train = np.array([np.array(x) for x in x_train])\n",
    "x_test = np.array([np.array(x) for x in x_test])"
   ]
  },
  {
   "cell_type": "code",
   "execution_count": 13,
   "id": "a290b8df-6009-43e7-ace9-6886f3cb1dcb",
   "metadata": {},
   "outputs": [],
   "source": [
    "x_train_normalized = x_train / 255.0\n",
    "x_test_normalized = x_test / 255.0"
   ]
  },
  {
   "cell_type": "code",
   "execution_count": 14,
   "id": "63307b0d-dd62-4224-a0b5-8990019c7560",
   "metadata": {},
   "outputs": [
    {
     "data": {
      "text/plain": [
       "array([[0.2       , 0.21176471, 0.22745098, ..., 0.16078431, 0.15294118,\n",
       "        0.14509804],\n",
       "       [0.10196078, 0.10980392, 0.11372549, ..., 0.31764706, 0.36078431,\n",
       "        0.39215686],\n",
       "       [0.23921569, 0.25490196, 0.27058824, ..., 0.41960784, 0.45098039,\n",
       "        0.47058824],\n",
       "       ...,\n",
       "       [0.37254902, 0.39215686, 0.40784314, ..., 0.57647059, 0.5254902 ,\n",
       "        0.50196078],\n",
       "       [0.70196078, 0.67843137, 0.69411765, ..., 0.54117647, 0.55686275,\n",
       "        0.56862745],\n",
       "       [0.69803922, 0.74901961, 0.77647059, ..., 0.72941176, 0.72156863,\n",
       "        0.72156863]])"
      ]
     },
     "execution_count": 14,
     "metadata": {},
     "output_type": "execute_result"
    }
   ],
   "source": [
    "x_train_normalized"
   ]
  },
  {
   "cell_type": "code",
   "execution_count": 15,
   "id": "c1fa59f6-1d24-439e-ac79-87e019422fff",
   "metadata": {},
   "outputs": [],
   "source": [
    "model = keras.Sequential()\n",
    "model.add(keras.layers.Dense(64, activation='relu', input_shape=(1024,)))\n",
    "model.add(keras.layers.Dense(64, activation='relu'))\n",
    "model.add(keras.layers.Dense(1, activation='softmax'))"
   ]
  },
  {
   "cell_type": "code",
   "execution_count": 16,
   "id": "3e59b0f1-e7be-45cc-a892-f517e43264cd",
   "metadata": {},
   "outputs": [
    {
     "name": "stdout",
     "output_type": "stream",
     "text": [
      "Model: \"sequential\"\n",
      "_________________________________________________________________\n",
      " Layer (type)                Output Shape              Param #   \n",
      "=================================================================\n",
      " dense (Dense)               (None, 64)                65600     \n",
      "                                                                 \n",
      " dense_1 (Dense)             (None, 64)                4160      \n",
      "                                                                 \n",
      " dense_2 (Dense)             (None, 1)                 65        \n",
      "                                                                 \n",
      "=================================================================\n",
      "Total params: 69,825\n",
      "Trainable params: 69,825\n",
      "Non-trainable params: 0\n",
      "_________________________________________________________________\n"
     ]
    }
   ],
   "source": [
    "model.summary()"
   ]
  },
  {
   "cell_type": "code",
   "execution_count": 17,
   "id": "06892e8c-655a-4356-8ee4-0111b161a69d",
   "metadata": {},
   "outputs": [],
   "source": [
    "model.compile(optimizer='adam',\n",
    "              loss=keras.losses.CategoricalCrossentropy(),\n",
    "              metrics=['accuracy'])\n"
   ]
  },
  {
   "cell_type": "code",
   "execution_count": 18,
   "id": "7faf0e57-9819-41d7-8417-7c79510c57b1",
   "metadata": {},
   "outputs": [
    {
     "data": {
      "text/plain": [
       "(2702,)"
      ]
     },
     "execution_count": 18,
     "metadata": {},
     "output_type": "execute_result"
    }
   ],
   "source": [
    "y_train_encoded.shape"
   ]
  },
  {
   "cell_type": "code",
   "execution_count": 19,
   "id": "fb9d6fc2-5fce-4e11-9498-e48d99c80c04",
   "metadata": {},
   "outputs": [
    {
     "name": "stdout",
     "output_type": "stream",
     "text": [
      "Epoch 1/40\n"
     ]
    },
    {
     "name": "stderr",
     "output_type": "stream",
     "text": [
      "2024-02-16 10:32:56.424134: W tensorflow/tsl/platform/profile_utils/cpu_utils.cc:128] Failed to get CPU frequency: 0 Hz\n"
     ]
    },
    {
     "name": "stdout",
     "output_type": "stream",
     "text": [
      "22/22 [==============================] - 0s 7ms/step - loss: 0.0000e+00 - accuracy: 0.0041 - val_loss: 0.0000e+00 - val_accuracy: 0.0044\n",
      "Epoch 2/40\n",
      "22/22 [==============================] - 0s 3ms/step - loss: 0.0000e+00 - accuracy: 0.0041 - val_loss: 0.0000e+00 - val_accuracy: 0.0044\n",
      "Epoch 3/40\n",
      "22/22 [==============================] - 0s 3ms/step - loss: 0.0000e+00 - accuracy: 0.0041 - val_loss: 0.0000e+00 - val_accuracy: 0.0044\n",
      "Epoch 4/40\n",
      "22/22 [==============================] - 0s 3ms/step - loss: 0.0000e+00 - accuracy: 0.0041 - val_loss: 0.0000e+00 - val_accuracy: 0.0044\n",
      "Epoch 5/40\n",
      "22/22 [==============================] - 0s 3ms/step - loss: 0.0000e+00 - accuracy: 0.0041 - val_loss: 0.0000e+00 - val_accuracy: 0.0044\n",
      "Epoch 6/40\n",
      "22/22 [==============================] - 0s 3ms/step - loss: 0.0000e+00 - accuracy: 0.0041 - val_loss: 0.0000e+00 - val_accuracy: 0.0044\n",
      "Epoch 7/40\n",
      "22/22 [==============================] - 0s 3ms/step - loss: 0.0000e+00 - accuracy: 0.0041 - val_loss: 0.0000e+00 - val_accuracy: 0.0044\n",
      "Epoch 8/40\n",
      "22/22 [==============================] - 0s 3ms/step - loss: 0.0000e+00 - accuracy: 0.0041 - val_loss: 0.0000e+00 - val_accuracy: 0.0044\n",
      "Epoch 9/40\n",
      "22/22 [==============================] - 0s 3ms/step - loss: 0.0000e+00 - accuracy: 0.0041 - val_loss: 0.0000e+00 - val_accuracy: 0.0044\n",
      "Epoch 10/40\n",
      "22/22 [==============================] - 0s 3ms/step - loss: 0.0000e+00 - accuracy: 0.0041 - val_loss: 0.0000e+00 - val_accuracy: 0.0044\n",
      "Epoch 11/40\n",
      "22/22 [==============================] - 0s 3ms/step - loss: 0.0000e+00 - accuracy: 0.0041 - val_loss: 0.0000e+00 - val_accuracy: 0.0044\n",
      "Epoch 12/40\n",
      "22/22 [==============================] - 0s 3ms/step - loss: 0.0000e+00 - accuracy: 0.0041 - val_loss: 0.0000e+00 - val_accuracy: 0.0044\n",
      "Epoch 13/40\n",
      "22/22 [==============================] - 0s 3ms/step - loss: 0.0000e+00 - accuracy: 0.0041 - val_loss: 0.0000e+00 - val_accuracy: 0.0044\n",
      "Epoch 14/40\n",
      "22/22 [==============================] - 0s 3ms/step - loss: 0.0000e+00 - accuracy: 0.0041 - val_loss: 0.0000e+00 - val_accuracy: 0.0044\n",
      "Epoch 15/40\n",
      "22/22 [==============================] - 0s 3ms/step - loss: 0.0000e+00 - accuracy: 0.0041 - val_loss: 0.0000e+00 - val_accuracy: 0.0044\n",
      "Epoch 16/40\n",
      "22/22 [==============================] - 0s 3ms/step - loss: 0.0000e+00 - accuracy: 0.0041 - val_loss: 0.0000e+00 - val_accuracy: 0.0044\n",
      "Epoch 17/40\n",
      "22/22 [==============================] - 0s 3ms/step - loss: 0.0000e+00 - accuracy: 0.0041 - val_loss: 0.0000e+00 - val_accuracy: 0.0044\n",
      "Epoch 18/40\n",
      "22/22 [==============================] - 0s 3ms/step - loss: 0.0000e+00 - accuracy: 0.0041 - val_loss: 0.0000e+00 - val_accuracy: 0.0044\n",
      "Epoch 19/40\n",
      "22/22 [==============================] - 0s 3ms/step - loss: 0.0000e+00 - accuracy: 0.0041 - val_loss: 0.0000e+00 - val_accuracy: 0.0044\n",
      "Epoch 20/40\n",
      "22/22 [==============================] - 0s 3ms/step - loss: 0.0000e+00 - accuracy: 0.0041 - val_loss: 0.0000e+00 - val_accuracy: 0.0044\n",
      "Epoch 21/40\n",
      "22/22 [==============================] - 0s 3ms/step - loss: 0.0000e+00 - accuracy: 0.0041 - val_loss: 0.0000e+00 - val_accuracy: 0.0044\n",
      "Epoch 22/40\n",
      "22/22 [==============================] - 0s 3ms/step - loss: 0.0000e+00 - accuracy: 0.0041 - val_loss: 0.0000e+00 - val_accuracy: 0.0044\n",
      "Epoch 23/40\n",
      "22/22 [==============================] - 0s 3ms/step - loss: 0.0000e+00 - accuracy: 0.0041 - val_loss: 0.0000e+00 - val_accuracy: 0.0044\n",
      "Epoch 24/40\n",
      "22/22 [==============================] - 0s 3ms/step - loss: 0.0000e+00 - accuracy: 0.0041 - val_loss: 0.0000e+00 - val_accuracy: 0.0044\n",
      "Epoch 25/40\n",
      "22/22 [==============================] - 0s 3ms/step - loss: 0.0000e+00 - accuracy: 0.0041 - val_loss: 0.0000e+00 - val_accuracy: 0.0044\n",
      "Epoch 26/40\n",
      "22/22 [==============================] - 0s 3ms/step - loss: 0.0000e+00 - accuracy: 0.0041 - val_loss: 0.0000e+00 - val_accuracy: 0.0044\n",
      "Epoch 27/40\n",
      "22/22 [==============================] - 0s 3ms/step - loss: 0.0000e+00 - accuracy: 0.0041 - val_loss: 0.0000e+00 - val_accuracy: 0.0044\n",
      "Epoch 28/40\n",
      "22/22 [==============================] - 0s 3ms/step - loss: 0.0000e+00 - accuracy: 0.0041 - val_loss: 0.0000e+00 - val_accuracy: 0.0044\n",
      "Epoch 29/40\n",
      "22/22 [==============================] - 0s 3ms/step - loss: 0.0000e+00 - accuracy: 0.0041 - val_loss: 0.0000e+00 - val_accuracy: 0.0044\n",
      "Epoch 30/40\n",
      "22/22 [==============================] - 0s 3ms/step - loss: 0.0000e+00 - accuracy: 0.0041 - val_loss: 0.0000e+00 - val_accuracy: 0.0044\n",
      "Epoch 31/40\n",
      "22/22 [==============================] - 0s 3ms/step - loss: 0.0000e+00 - accuracy: 0.0041 - val_loss: 0.0000e+00 - val_accuracy: 0.0044\n",
      "Epoch 32/40\n",
      "22/22 [==============================] - 0s 3ms/step - loss: 0.0000e+00 - accuracy: 0.0041 - val_loss: 0.0000e+00 - val_accuracy: 0.0044\n",
      "Epoch 33/40\n",
      "22/22 [==============================] - 0s 3ms/step - loss: 0.0000e+00 - accuracy: 0.0041 - val_loss: 0.0000e+00 - val_accuracy: 0.0044\n",
      "Epoch 34/40\n",
      "22/22 [==============================] - 0s 3ms/step - loss: 0.0000e+00 - accuracy: 0.0041 - val_loss: 0.0000e+00 - val_accuracy: 0.0044\n",
      "Epoch 35/40\n",
      "22/22 [==============================] - 0s 3ms/step - loss: 0.0000e+00 - accuracy: 0.0041 - val_loss: 0.0000e+00 - val_accuracy: 0.0044\n",
      "Epoch 36/40\n",
      "22/22 [==============================] - 0s 3ms/step - loss: 0.0000e+00 - accuracy: 0.0041 - val_loss: 0.0000e+00 - val_accuracy: 0.0044\n",
      "Epoch 37/40\n",
      "22/22 [==============================] - 0s 3ms/step - loss: 0.0000e+00 - accuracy: 0.0041 - val_loss: 0.0000e+00 - val_accuracy: 0.0044\n",
      "Epoch 38/40\n",
      "22/22 [==============================] - 0s 3ms/step - loss: 0.0000e+00 - accuracy: 0.0041 - val_loss: 0.0000e+00 - val_accuracy: 0.0044\n",
      "Epoch 39/40\n",
      "22/22 [==============================] - 0s 3ms/step - loss: 0.0000e+00 - accuracy: 0.0041 - val_loss: 0.0000e+00 - val_accuracy: 0.0044\n",
      "Epoch 40/40\n",
      "22/22 [==============================] - 0s 3ms/step - loss: 0.0000e+00 - accuracy: 0.0041 - val_loss: 0.0000e+00 - val_accuracy: 0.0044\n"
     ]
    },
    {
     "data": {
      "text/plain": [
       "<keras.callbacks.History at 0x1524c3880>"
      ]
     },
     "execution_count": 19,
     "metadata": {},
     "output_type": "execute_result"
    }
   ],
   "source": [
    "model.fit(x_train_normalized, y_train_encoded,\n",
    "          batch_size=128,\n",
    "          epochs=40,\n",
    "          validation_data=(x_test_normalized, y_test_encoded))"
   ]
  },
  {
   "cell_type": "code",
   "execution_count": 20,
   "id": "c2e806db-0cd9-4ecc-9bc9-e4b42b927978",
   "metadata": {},
   "outputs": [
    {
     "name": "stdout",
     "output_type": "stream",
     "text": [
      "85/85 [==============================] - 0s 565us/step - loss: 0.0000e+00 - accuracy: 0.0044\n",
      "Test loss: 0.0\n",
      "Test accuracy: 0.004442798905074596\n"
     ]
    }
   ],
   "source": [
    "test_scores = model.evaluate(x_test_normalized, y_test_encoded)\n",
    "print(\"Test loss:\", test_scores[0])\n",
    "print(\"Test accuracy:\", test_scores[1])"
   ]
  },
  {
   "cell_type": "code",
   "execution_count": 21,
   "id": "da3c1017-9adc-453b-8820-c5e0b0e1733c",
   "metadata": {},
   "outputs": [
    {
     "data": {
      "text/plain": [
       "[0.0, 0.004442798905074596]"
      ]
     },
     "execution_count": 21,
     "metadata": {},
     "output_type": "execute_result"
    }
   ],
   "source": [
    "test_scores"
   ]
  }
 ],
 "metadata": {
  "kernelspec": {
   "display_name": "Python 3 (ipykernel)",
   "language": "python",
   "name": "python3"
  },
  "language_info": {
   "codemirror_mode": {
    "name": "ipython",
    "version": 3
   },
   "file_extension": ".py",
   "mimetype": "text/x-python",
   "name": "python",
   "nbconvert_exporter": "python",
   "pygments_lexer": "ipython3",
   "version": "3.9.18"
  }
 },
 "nbformat": 4,
 "nbformat_minor": 5
}
